{
  "cells": [
    {
      "cell_type": "markdown",
      "metadata": {
        "id": "view-in-github",
        "colab_type": "text"
      },
      "source": [
        "<a href=\"https://colab.research.google.com/github/Rosie-Chenyr/Advanced-H1B-LCA-Data-Analysis-Project/blob/joy/class03.ipynb\" target=\"_parent\"><img src=\"https://colab.research.google.com/assets/colab-badge.svg\" alt=\"Open In Colab\"/></a>"
      ]
    },
    {
      "cell_type": "code",
      "execution_count": null,
      "id": "bd6c9bf5-cc03-4296-b1ef-7062704c146a",
      "metadata": {
        "id": "bd6c9bf5-cc03-4296-b1ef-7062704c146a"
      },
      "outputs": [],
      "source": [
        "# Autoencoder with GPU\n",
        "import torch\n",
        "import torch.nn as nn\n",
        "import torch.optim as optim\n",
        "import numpy as np\n",
        "from sklearn.feature_extraction.text import CountVectorizer"
      ]
    },
    {
      "cell_type": "code",
      "source": [
        "# Check for GPU availability\n",
        "device = torch.device('cuda' if torch.cuda.is_available() else 'cpu')\n",
        "print(f\"Using device: {device}\")"
      ],
      "metadata": {
        "colab": {
          "base_uri": "https://localhost:8080/"
        },
        "id": "Is42CUs3m-Mv",
        "outputId": "890c5f7f-e307-4470-872c-0bbc018a035b"
      },
      "id": "Is42CUs3m-Mv",
      "execution_count": null,
      "outputs": [
        {
          "output_type": "stream",
          "name": "stdout",
          "text": [
            "Using device: cuda\n"
          ]
        }
      ]
    },
    {
      "cell_type": "code",
      "execution_count": null,
      "id": "d6bcd52a-4190-43f1-ab19-90df52b7b4a9",
      "metadata": {
        "id": "d6bcd52a-4190-43f1-ab19-90df52b7b4a9"
      },
      "outputs": [],
      "source": [
        "# Sample sentences\n",
        "sentences = [\n",
        "    \"i loved this movie\",\n",
        "    \"the acting was terrible\",\n",
        "    \"great performances by the cast\",\n",
        "    \"i fell asleep during the film\",\n",
        "    \"this film is a masterpiece\",\n",
        "    \"the special effects were amazing\",\n",
        "    \"worst movie i have seen\",\n",
        "    \"the soundtrack was beautiful\"\n",
        "]"
      ]
    },
    {
      "cell_type": "code",
      "execution_count": null,
      "id": "5f6efe0e-0d34-4d6a-9b99-95128d973dae",
      "metadata": {
        "colab": {
          "base_uri": "https://localhost:8080/"
        },
        "id": "5f6efe0e-0d34-4d6a-9b99-95128d973dae",
        "outputId": "a05910db-c5d8-400b-f83e-a3c159d3e56b"
      },
      "outputs": [
        {
          "output_type": "stream",
          "name": "stdout",
          "text": [
            "Vocabulary size: 26\n"
          ]
        }
      ],
      "source": [
        "# Create bag-of-words representation\n",
        "vectorizer = CountVectorizer(binary=True)\n",
        "X = vectorizer.fit_transform(sentences).toarray()\n",
        "vocab_size = len(vectorizer.get_feature_names_out())\n",
        "print(f\"Vocabulary size: {vocab_size}\")"
      ]
    },
    {
      "cell_type": "code",
      "source": [
        "# Convert to torch tensors and move to device\n",
        "X_tensor = torch.FloatTensor(X).to(device)"
      ],
      "metadata": {
        "id": "rFgt5kOCn22y"
      },
      "id": "rFgt5kOCn22y",
      "execution_count": null,
      "outputs": []
    },
    {
      "cell_type": "code",
      "execution_count": null,
      "id": "1c9a91e9-ca8a-4ed3-b515-780b37ae32f0",
      "metadata": {
        "id": "1c9a91e9-ca8a-4ed3-b515-780b37ae32f0"
      },
      "outputs": [],
      "source": [
        "# Define a simple autoencoder\n",
        "class TextAutoencoder(nn.Module):\n",
        "    def __init__(self, input_dim, encoding_dim):\n",
        "        super(TextAutoencoder, self).__init__()\n",
        "        self.encoder = nn.Linear(input_dim, encoding_dim)\n",
        "        self.decoder = nn.Linear(encoding_dim, input_dim)\n",
        "\n",
        "    def forward(self, x):\n",
        "        encoded = torch.relu(self.encoder(x))\n",
        "        decoded = torch.sigmoid(self.decoder(encoded))\n",
        "        return decoded, encoded"
      ]
    },
    {
      "cell_type": "code",
      "source": [
        "# Initilize the model and move to device\n",
        "input_dim = vocab_size\n",
        "encoding_dim = 5 # Compressed representation size\n",
        "model = TextAutoencoder(input_dim, encoding_dim).to(device)"
      ],
      "metadata": {
        "id": "7N9yGbZ7obO7"
      },
      "id": "7N9yGbZ7obO7",
      "execution_count": null,
      "outputs": []
    },
    {
      "cell_type": "code",
      "source": [
        "# Loss function and optimizer\n",
        "criterion = nn.BCELoss()\n",
        "optimizer = optim.Adam(model.parameters(), lr=0.01)"
      ],
      "metadata": {
        "id": "tjee66xfpS_6"
      },
      "id": "tjee66xfpS_6",
      "execution_count": null,
      "outputs": []
    },
    {
      "cell_type": "code",
      "execution_count": null,
      "id": "c57edfee-8caa-48ff-a6f9-04c122ad8932",
      "metadata": {
        "colab": {
          "base_uri": "https://localhost:8080/"
        },
        "id": "c57edfee-8caa-48ff-a6f9-04c122ad8932",
        "outputId": "c1fde9f0-103b-442c-dfde-1c7705ef65aa"
      },
      "outputs": [
        {
          "output_type": "stream",
          "name": "stdout",
          "text": [
            "Epoch [20/100], Loss: 0.5352\n",
            "Epoch [40/100], Loss: 0.3684\n",
            "Epoch [60/100], Loss: 0.2792\n",
            "Epoch [80/100], Loss: 0.2077\n",
            "Epoch [100/100], Loss: 0.1502\n"
          ]
        }
      ],
      "source": [
        "# Training loop with GPU acceleration\n",
        "num_epochs = 100\n",
        "for epoch in range(num_epochs):\n",
        "    # Forward pass\n",
        "    reconstructed, encoded = model(X_tensor)\n",
        "    loss = criterion(reconstructed, X_tensor)\n",
        "\n",
        "    # Backward pass and optimize\n",
        "    optimizer.zero_grad()\n",
        "    loss.backward()\n",
        "    optimizer.step()\n",
        "\n",
        "    # Print progress\n",
        "    if (epoch+1) % 20 == 0:\n",
        "        print(f'Epoch [{epoch+1}/{num_epochs}], Loss: {loss.item():.4f}')"
      ]
    },
    {
      "cell_type": "code",
      "execution_count": null,
      "id": "fa88588f-1bb9-47a6-bc5b-711ca926e1df",
      "metadata": {
        "colab": {
          "base_uri": "https://localhost:8080/"
        },
        "id": "fa88588f-1bb9-47a6-bc5b-711ca926e1df",
        "outputId": "09abf514-9063-4b5a-e415-7bb7f0707dfb"
      },
      "outputs": [
        {
          "output_type": "stream",
          "name": "stdout",
          "text": [
            "\n",
            "Original vs Reconstructed:\n",
            "\n",
            "Original: i loved this movie\n",
            "Reconstructed words: movie, this, loved\n",
            "\n",
            "Original: the acting was terrible\n",
            "Reconstructed words: the, was, terrible, acting\n",
            "\n",
            "Original: great performances by the cast\n",
            "Reconstructed words: the, great, cast, performances, by\n",
            "\n",
            "Original: i fell asleep during the film\n",
            "Reconstructed words: film, this, the, masterpiece, fell\n",
            "\n",
            "Original: this film is a masterpiece\n",
            "Reconstructed words: film, this, is, masterpiece\n",
            "\n",
            "Original: the special effects were amazing\n",
            "Reconstructed words: the, special, were, amazing, effects\n",
            "\n",
            "Original: worst movie i have seen\n",
            "Reconstructed words: movie, worst, have, the\n",
            "\n",
            "Original: the soundtrack was beautiful\n",
            "Reconstructed words: the, was, beautiful, soundtrack\n",
            "\n",
            "Encoded representations (5-dimensional):\n",
            "i loved this movie: [0.0000000e+00 2.7190549e+00 0.0000000e+00 8.0972910e-04 1.9842306e+00]\n",
            "the acting was terrible: [0.        2.334205  3.3679435 3.349973  0.       ]\n",
            "great performances by the cast: [0.         0.1695404  0.52174306 5.5495505  2.8607063 ]\n",
            "i fell asleep during the film: [0.         1.1543618  0.02716041 0.92579854 3.8219142 ]\n",
            "this film is a masterpiece: [0.        1.0546447 0.        0.        4.607388 ]\n",
            "the special effects were amazing: [0.0000000e+00 3.7674055e+00 2.2747681e+00 3.3015609e-03 0.0000000e+00]\n",
            "worst movie i have seen: [0.        3.5318553 0.        1.7922883 0.       ]\n",
            "the soundtrack was beautiful: [0.       2.405897 4.381333 2.315347 0.      ]\n"
          ]
        }
      ],
      "source": [
        "# Test the autoencoder\n",
        "model.eval()\n",
        "with torch.no_grad():\n",
        "    reconstructed, encoded_data = model(X_tensor)\n",
        "\n",
        "    # Move data back to CPU for processing\n",
        "    reconstructed = reconstructed.cpu()\n",
        "    encoded_data = encoded_data.cpu()\n",
        "    X_tensor_cpu = X_tensor.cpu()\n",
        "\n",
        "    # Print original and reconstructed text\n",
        "    print(\"\\nOriginal vs Reconstructed:\")\n",
        "    for i in range(len(sentences)):\n",
        "        print(f\"\\nOriginal: {sentences[i]}\")\n",
        "\n",
        "        # Get original words\n",
        "        original_indices = X_tensor_cpu[i].nonzero().flatten().tolist()\n",
        "        original_words = [vectorizer.get_feature_names_out()[idx] for idx in original_indices]\n",
        "\n",
        "        # Get reconstructed words (top N where N is number of words in original)\n",
        "        n_words = len(original_indices)\n",
        "        values, indices = torch.topk(reconstructed[i], n_words)\n",
        "        reconstructed_words = [vectorizer.get_feature_names_out()[idx.item()] for idx in indices]\n",
        "\n",
        "        print(f\"Reconstructed words: {', '.join(reconstructed_words)}\")\n",
        "\n",
        "    # Print encoded representation\n",
        "    print(\"\\nEncoded representations (5-dimensional):\")\n",
        "    for i, sentence in enumerate(sentences):\n",
        "        print(f\"{sentence}: {encoded_data[i].numpy()}\")"
      ]
    },
    {
      "cell_type": "code",
      "source": [],
      "metadata": {
        "id": "UsS0E412rxTN"
      },
      "id": "UsS0E412rxTN",
      "execution_count": null,
      "outputs": []
    }
  ],
  "metadata": {
    "kernelspec": {
      "display_name": "Python 3",
      "name": "python3"
    },
    "language_info": {
      "codemirror_mode": {
        "name": "ipython",
        "version": 3
      },
      "file_extension": ".py",
      "mimetype": "text/x-python",
      "name": "python",
      "nbconvert_exporter": "python",
      "pygments_lexer": "ipython3",
      "version": "3.12.9"
    },
    "colab": {
      "provenance": [],
      "gpuType": "T4",
      "include_colab_link": true
    },
    "accelerator": "GPU"
  },
  "nbformat": 4,
  "nbformat_minor": 5
}